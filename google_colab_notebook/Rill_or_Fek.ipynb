{
  "nbformat": 4,
  "nbformat_minor": 0,
  "metadata": {
    "colab": {
      "provenance": []
    },
    "kernelspec": {
      "name": "python3",
      "display_name": "Python 3"
    },
    "language_info": {
      "name": "python"
    }
  },
  "cells": [
    {
      "cell_type": "code",
      "execution_count": 1,
      "metadata": {
        "colab": {
          "base_uri": "https://localhost:8080/"
        },
        "id": "XVAN_BOALQ_c",
        "outputId": "3683bfe0-00c8-4773-9183-dbea98e949cf"
      },
      "outputs": [
        {
          "output_type": "stream",
          "name": "stdout",
          "text": [
            "Collecting replicate\n",
            "  Downloading replicate-1.0.7-py3-none-any.whl.metadata (29 kB)\n",
            "Requirement already satisfied: httpx<1,>=0.21.0 in /usr/local/lib/python3.12/dist-packages (from replicate) (0.28.1)\n",
            "Requirement already satisfied: packaging in /usr/local/lib/python3.12/dist-packages (from replicate) (25.0)\n",
            "Requirement already satisfied: pydantic>1.10.7 in /usr/local/lib/python3.12/dist-packages (from replicate) (2.11.7)\n",
            "Requirement already satisfied: typing_extensions>=4.5.0 in /usr/local/lib/python3.12/dist-packages (from replicate) (4.15.0)\n",
            "Requirement already satisfied: anyio in /usr/local/lib/python3.12/dist-packages (from httpx<1,>=0.21.0->replicate) (4.10.0)\n",
            "Requirement already satisfied: certifi in /usr/local/lib/python3.12/dist-packages (from httpx<1,>=0.21.0->replicate) (2025.8.3)\n",
            "Requirement already satisfied: httpcore==1.* in /usr/local/lib/python3.12/dist-packages (from httpx<1,>=0.21.0->replicate) (1.0.9)\n",
            "Requirement already satisfied: idna in /usr/local/lib/python3.12/dist-packages (from httpx<1,>=0.21.0->replicate) (3.10)\n",
            "Requirement already satisfied: h11>=0.16 in /usr/local/lib/python3.12/dist-packages (from httpcore==1.*->httpx<1,>=0.21.0->replicate) (0.16.0)\n",
            "Requirement already satisfied: annotated-types>=0.6.0 in /usr/local/lib/python3.12/dist-packages (from pydantic>1.10.7->replicate) (0.7.0)\n",
            "Requirement already satisfied: pydantic-core==2.33.2 in /usr/local/lib/python3.12/dist-packages (from pydantic>1.10.7->replicate) (2.33.2)\n",
            "Requirement already satisfied: typing-inspection>=0.4.0 in /usr/local/lib/python3.12/dist-packages (from pydantic>1.10.7->replicate) (0.4.1)\n",
            "Requirement already satisfied: sniffio>=1.1 in /usr/local/lib/python3.12/dist-packages (from anyio->httpx<1,>=0.21.0->replicate) (1.3.1)\n",
            "Downloading replicate-1.0.7-py3-none-any.whl (48 kB)\n",
            "\u001b[2K   \u001b[90m━━━━━━━━━━━━━━━━━━━━━━━━━━━━━━━━━━━━━━━━\u001b[0m \u001b[32m48.6/48.6 kB\u001b[0m \u001b[31m1.7 MB/s\u001b[0m eta \u001b[36m0:00:00\u001b[0m\n",
            "\u001b[?25hInstalling collected packages: replicate\n",
            "Successfully installed replicate-1.0.7\n",
            "Collecting langchain_community\n",
            "  Downloading langchain_community-0.3.29-py3-none-any.whl.metadata (2.9 kB)\n",
            "Requirement already satisfied: langchain-core<2.0.0,>=0.3.75 in /usr/local/lib/python3.12/dist-packages (from langchain_community) (0.3.75)\n",
            "Requirement already satisfied: langchain<2.0.0,>=0.3.27 in /usr/local/lib/python3.12/dist-packages (from langchain_community) (0.3.27)\n",
            "Requirement already satisfied: SQLAlchemy<3,>=1.4 in /usr/local/lib/python3.12/dist-packages (from langchain_community) (2.0.43)\n",
            "Collecting requests<3,>=2.32.5 (from langchain_community)\n",
            "  Downloading requests-2.32.5-py3-none-any.whl.metadata (4.9 kB)\n",
            "Requirement already satisfied: PyYAML>=5.3 in /usr/local/lib/python3.12/dist-packages (from langchain_community) (6.0.2)\n",
            "Requirement already satisfied: aiohttp<4.0.0,>=3.8.3 in /usr/local/lib/python3.12/dist-packages (from langchain_community) (3.12.15)\n",
            "Requirement already satisfied: tenacity!=8.4.0,<10,>=8.1.0 in /usr/local/lib/python3.12/dist-packages (from langchain_community) (8.5.0)\n",
            "Collecting dataclasses-json<0.7,>=0.6.7 (from langchain_community)\n",
            "  Downloading dataclasses_json-0.6.7-py3-none-any.whl.metadata (25 kB)\n",
            "Requirement already satisfied: pydantic-settings<3.0.0,>=2.10.1 in /usr/local/lib/python3.12/dist-packages (from langchain_community) (2.10.1)\n",
            "Requirement already satisfied: langsmith>=0.1.125 in /usr/local/lib/python3.12/dist-packages (from langchain_community) (0.4.24)\n",
            "Requirement already satisfied: httpx-sse<1.0.0,>=0.4.0 in /usr/local/lib/python3.12/dist-packages (from langchain_community) (0.4.1)\n",
            "Requirement already satisfied: numpy>=1.26.2 in /usr/local/lib/python3.12/dist-packages (from langchain_community) (2.0.2)\n",
            "Requirement already satisfied: aiohappyeyeballs>=2.5.0 in /usr/local/lib/python3.12/dist-packages (from aiohttp<4.0.0,>=3.8.3->langchain_community) (2.6.1)\n",
            "Requirement already satisfied: aiosignal>=1.4.0 in /usr/local/lib/python3.12/dist-packages (from aiohttp<4.0.0,>=3.8.3->langchain_community) (1.4.0)\n",
            "Requirement already satisfied: attrs>=17.3.0 in /usr/local/lib/python3.12/dist-packages (from aiohttp<4.0.0,>=3.8.3->langchain_community) (25.3.0)\n",
            "Requirement already satisfied: frozenlist>=1.1.1 in /usr/local/lib/python3.12/dist-packages (from aiohttp<4.0.0,>=3.8.3->langchain_community) (1.7.0)\n",
            "Requirement already satisfied: multidict<7.0,>=4.5 in /usr/local/lib/python3.12/dist-packages (from aiohttp<4.0.0,>=3.8.3->langchain_community) (6.6.4)\n",
            "Requirement already satisfied: propcache>=0.2.0 in /usr/local/lib/python3.12/dist-packages (from aiohttp<4.0.0,>=3.8.3->langchain_community) (0.3.2)\n",
            "Requirement already satisfied: yarl<2.0,>=1.17.0 in /usr/local/lib/python3.12/dist-packages (from aiohttp<4.0.0,>=3.8.3->langchain_community) (1.20.1)\n",
            "Collecting marshmallow<4.0.0,>=3.18.0 (from dataclasses-json<0.7,>=0.6.7->langchain_community)\n",
            "  Downloading marshmallow-3.26.1-py3-none-any.whl.metadata (7.3 kB)\n",
            "Collecting typing-inspect<1,>=0.4.0 (from dataclasses-json<0.7,>=0.6.7->langchain_community)\n",
            "  Downloading typing_inspect-0.9.0-py3-none-any.whl.metadata (1.5 kB)\n",
            "Requirement already satisfied: langchain-text-splitters<1.0.0,>=0.3.9 in /usr/local/lib/python3.12/dist-packages (from langchain<2.0.0,>=0.3.27->langchain_community) (0.3.11)\n",
            "Requirement already satisfied: pydantic<3.0.0,>=2.7.4 in /usr/local/lib/python3.12/dist-packages (from langchain<2.0.0,>=0.3.27->langchain_community) (2.11.7)\n",
            "Requirement already satisfied: jsonpatch<2.0,>=1.33 in /usr/local/lib/python3.12/dist-packages (from langchain-core<2.0.0,>=0.3.75->langchain_community) (1.33)\n",
            "Requirement already satisfied: typing-extensions>=4.7 in /usr/local/lib/python3.12/dist-packages (from langchain-core<2.0.0,>=0.3.75->langchain_community) (4.15.0)\n",
            "Requirement already satisfied: packaging>=23.2 in /usr/local/lib/python3.12/dist-packages (from langchain-core<2.0.0,>=0.3.75->langchain_community) (25.0)\n",
            "Requirement already satisfied: httpx<1,>=0.23.0 in /usr/local/lib/python3.12/dist-packages (from langsmith>=0.1.125->langchain_community) (0.28.1)\n",
            "Requirement already satisfied: orjson>=3.9.14 in /usr/local/lib/python3.12/dist-packages (from langsmith>=0.1.125->langchain_community) (3.11.3)\n",
            "Requirement already satisfied: requests-toolbelt>=1.0.0 in /usr/local/lib/python3.12/dist-packages (from langsmith>=0.1.125->langchain_community) (1.0.0)\n",
            "Requirement already satisfied: zstandard>=0.23.0 in /usr/local/lib/python3.12/dist-packages (from langsmith>=0.1.125->langchain_community) (0.24.0)\n",
            "Requirement already satisfied: python-dotenv>=0.21.0 in /usr/local/lib/python3.12/dist-packages (from pydantic-settings<3.0.0,>=2.10.1->langchain_community) (1.1.1)\n",
            "Requirement already satisfied: typing-inspection>=0.4.0 in /usr/local/lib/python3.12/dist-packages (from pydantic-settings<3.0.0,>=2.10.1->langchain_community) (0.4.1)\n",
            "Requirement already satisfied: charset_normalizer<4,>=2 in /usr/local/lib/python3.12/dist-packages (from requests<3,>=2.32.5->langchain_community) (3.4.3)\n",
            "Requirement already satisfied: idna<4,>=2.5 in /usr/local/lib/python3.12/dist-packages (from requests<3,>=2.32.5->langchain_community) (3.10)\n",
            "Requirement already satisfied: urllib3<3,>=1.21.1 in /usr/local/lib/python3.12/dist-packages (from requests<3,>=2.32.5->langchain_community) (2.5.0)\n",
            "Requirement already satisfied: certifi>=2017.4.17 in /usr/local/lib/python3.12/dist-packages (from requests<3,>=2.32.5->langchain_community) (2025.8.3)\n",
            "Requirement already satisfied: greenlet>=1 in /usr/local/lib/python3.12/dist-packages (from SQLAlchemy<3,>=1.4->langchain_community) (3.2.4)\n",
            "Requirement already satisfied: anyio in /usr/local/lib/python3.12/dist-packages (from httpx<1,>=0.23.0->langsmith>=0.1.125->langchain_community) (4.10.0)\n",
            "Requirement already satisfied: httpcore==1.* in /usr/local/lib/python3.12/dist-packages (from httpx<1,>=0.23.0->langsmith>=0.1.125->langchain_community) (1.0.9)\n",
            "Requirement already satisfied: h11>=0.16 in /usr/local/lib/python3.12/dist-packages (from httpcore==1.*->httpx<1,>=0.23.0->langsmith>=0.1.125->langchain_community) (0.16.0)\n",
            "Requirement already satisfied: jsonpointer>=1.9 in /usr/local/lib/python3.12/dist-packages (from jsonpatch<2.0,>=1.33->langchain-core<2.0.0,>=0.3.75->langchain_community) (3.0.0)\n",
            "Requirement already satisfied: annotated-types>=0.6.0 in /usr/local/lib/python3.12/dist-packages (from pydantic<3.0.0,>=2.7.4->langchain<2.0.0,>=0.3.27->langchain_community) (0.7.0)\n",
            "Requirement already satisfied: pydantic-core==2.33.2 in /usr/local/lib/python3.12/dist-packages (from pydantic<3.0.0,>=2.7.4->langchain<2.0.0,>=0.3.27->langchain_community) (2.33.2)\n",
            "Collecting mypy-extensions>=0.3.0 (from typing-inspect<1,>=0.4.0->dataclasses-json<0.7,>=0.6.7->langchain_community)\n",
            "  Downloading mypy_extensions-1.1.0-py3-none-any.whl.metadata (1.1 kB)\n",
            "Requirement already satisfied: sniffio>=1.1 in /usr/local/lib/python3.12/dist-packages (from anyio->httpx<1,>=0.23.0->langsmith>=0.1.125->langchain_community) (1.3.1)\n",
            "Downloading langchain_community-0.3.29-py3-none-any.whl (2.5 MB)\n",
            "\u001b[2K   \u001b[90m━━━━━━━━━━━━━━━━━━━━━━━━━━━━━━━━━━━━━━━━\u001b[0m \u001b[32m2.5/2.5 MB\u001b[0m \u001b[31m28.1 MB/s\u001b[0m eta \u001b[36m0:00:00\u001b[0m\n",
            "\u001b[?25hDownloading dataclasses_json-0.6.7-py3-none-any.whl (28 kB)\n",
            "Downloading requests-2.32.5-py3-none-any.whl (64 kB)\n",
            "\u001b[2K   \u001b[90m━━━━━━━━━━━━━━━━━━━━━━━━━━━━━━━━━━━━━━━━\u001b[0m \u001b[32m64.7/64.7 kB\u001b[0m \u001b[31m7.6 MB/s\u001b[0m eta \u001b[36m0:00:00\u001b[0m\n",
            "\u001b[?25hDownloading marshmallow-3.26.1-py3-none-any.whl (50 kB)\n",
            "\u001b[2K   \u001b[90m━━━━━━━━━━━━━━━━━━━━━━━━━━━━━━━━━━━━━━━━\u001b[0m \u001b[32m50.9/50.9 kB\u001b[0m \u001b[31m6.0 MB/s\u001b[0m eta \u001b[36m0:00:00\u001b[0m\n",
            "\u001b[?25hDownloading typing_inspect-0.9.0-py3-none-any.whl (8.8 kB)\n",
            "Downloading mypy_extensions-1.1.0-py3-none-any.whl (5.0 kB)\n",
            "Installing collected packages: requests, mypy-extensions, marshmallow, typing-inspect, dataclasses-json, langchain_community\n",
            "  Attempting uninstall: requests\n",
            "    Found existing installation: requests 2.32.4\n",
            "    Uninstalling requests-2.32.4:\n",
            "      Successfully uninstalled requests-2.32.4\n",
            "\u001b[31mERROR: pip's dependency resolver does not currently take into account all the packages that are installed. This behaviour is the source of the following dependency conflicts.\n",
            "google-colab 1.0.0 requires requests==2.32.4, but you have requests 2.32.5 which is incompatible.\u001b[0m\u001b[31m\n",
            "\u001b[0mSuccessfully installed dataclasses-json-0.6.7 langchain_community-0.3.29 marshmallow-3.26.1 mypy-extensions-1.1.0 requests-2.32.5 typing-inspect-0.9.0\n"
          ]
        }
      ],
      "source": [
        "!pip install replicate\n",
        "!pip install langchain_community"
      ]
    },
    {
      "cell_type": "code",
      "source": [
        "from google.colab import userdata\n",
        "import os\n",
        "\n",
        "#ambil api\n",
        "api_token = userdata.get(\"api_token\")\n",
        "os.environ[\"REPLICATE_API_TOKEN\"] = api_token"
      ],
      "metadata": {
        "id": "8F2O7ramL2ES"
      },
      "execution_count": 2,
      "outputs": []
    },
    {
      "cell_type": "code",
      "source": [
        "from langchain_community.llms import Replicate\n",
        "\n",
        "#kuchiyose model\n",
        "model = Replicate(model=\"ibm-granite/granite-3.3-8b-instruct\")"
      ],
      "metadata": {
        "id": "S4-FS0CgL19y"
      },
      "execution_count": 3,
      "outputs": []
    },
    {
      "cell_type": "code",
      "source": [
        "# cek\n",
        "response = model.invoke(\"halo granite, tolong jelaskan apa itu berita palsu (fake news) dalam 2 kalimat.\")\n",
        "print(response)\n"
      ],
      "metadata": {
        "colab": {
          "base_uri": "https://localhost:8080/"
        },
        "id": "De3v4iLKL13C",
        "outputId": "b580d857-b865-4928-fdf0-74fd68541185"
      },
      "execution_count": 4,
      "outputs": [
        {
          "output_type": "stream",
          "name": "stdout",
          "text": [
            "Berita palsu, juga dikenal sebagai fake news, adalah informasi yang disebarkan sebagai berita tetapi tidak berasal dari sumber yang terpercaya atau tidak dapat diberi kesan. Ini biasanya berisi ketidakbenaran, dramatisasi, atau konteks yang telah diubah dengan tujuan untuk menyebarkan ideologi tertentu atau menciptakan kerapuan.\n"
          ]
        }
      ]
    },
    {
      "cell_type": "code",
      "source": [
        "import pandas as biji\n",
        "\n",
        "#memasukkan dataset fek dan tru, pake py, lalu on_bad_lines supaya baris rusak dilewati\n",
        "fake_df = biji.read_csv(\"/content/Fake.csv\", engine=\"python\", on_bad_lines='skip')\n",
        "true_df = biji.read_csv(\"/content/True.csv\", engine=\"python\", on_bad_lines='skip')\n",
        "\n",
        "#mengambil 3 cnth berita fek dan 3 berita rill\n",
        "samples = []\n",
        "for i in range(3):\n",
        "    samples.append((\"FAKE\", fake_df.iloc[i][\"text\"]))\n",
        "    samples.append((\"REAL\", true_df.iloc[i][\"text\"]))\n",
        "\n",
        "results = []    #list untuk menyimpan hasil dai granite"
      ],
      "metadata": {
        "id": "-r_ynGHtL1u6"
      },
      "execution_count": 7,
      "outputs": []
    },
    {
      "cell_type": "code",
      "source": [
        "from langchain_community.llms import Replicate\n",
        "\n",
        "#parameter utk mengontrol granite\n",
        "parameters = {\n",
        "    \"top_k\": 50,                                  #50 kata teratas\n",
        "    \"top_p\": 0.9,                                 #ngambil 90% probabiitas teratas\n",
        "    \"max_tokens\": 256,                            #maks jawaban\n",
        "    \"min_tokens\": 0,                              #min\n",
        "    \"random_seed\": 42,                            #biar bisa direplikasi\n",
        "    \"repetition_penalty\": 1.1,                    #penalti kalau ngulang\n",
        "    \"stopping_criteria\": \"length (256 tokens)\",\n",
        "    \"stopping_sequence\": None\n",
        "}\n",
        "\n",
        "#menyiapkan granite dari replicatee dgn parameter diatas\n",
        "model = Replicate(\n",
        "    model=\"ibm-granite/granite-3.3-8b-instruct\",\n",
        "    model_kwargs=parameters\n",
        ")\n"
      ],
      "metadata": {
        "id": "PjEQ1AwfTTBy"
      },
      "execution_count": 8,
      "outputs": []
    },
    {
      "cell_type": "code",
      "source": [
        "for idx, (true_label, text) in enumerate(samples, start=1):\n",
        "    #promptnya\n",
        "    prompt = f\"\"\"\n",
        "    classify the following news article.\n",
        "    only classify as real if you are absolutely sure the content can be verified by credible news outlets. otherwise, classify as fake.\n",
        "\n",
        "    return only JSON with two keys: \"label\" and \"reason\".\n",
        "\n",
        "    news:\n",
        "    {text}\n",
        "    \"\"\"\n",
        "\n",
        "    #panggil granite\n",
        "    output = model.invoke(prompt)\n",
        "\n",
        "    #print hasil di console\n",
        "    print(f\"\\n--- Sample {idx} ---\")\n",
        "    print(\"Granite output:\", output)\n",
        "\n",
        "    #simpan ke ;list hasil\n",
        "    results.append({\n",
        "        \"true_label\": true_label,\n",
        "        \"granite_output\": output\n",
        "    })\n",
        "\n",
        "#simpan hasil ke dataframe\n",
        "df_results = biji.DataFrame(results)\n",
        "print(\"\\n=== Ringkasan Hasil Granite ===\")\n",
        "print(df_results)\n"
      ],
      "metadata": {
        "colab": {
          "base_uri": "https://localhost:8080/"
        },
        "id": "H4lBtps_TS96",
        "outputId": "1e90bc03-7274-4baa-cc9b-b1e052c2d4cd"
      },
      "execution_count": 9,
      "outputs": [
        {
          "output_type": "stream",
          "name": "stdout",
          "text": [
            "\n",
            "--- Sample 1 ---\n",
            "Granite output: {\n",
            "  \"label\": \"real\",\n",
            "  \"reason\": \"The news article presents a verified tweet from the official account of former U.S. President Donald Trump (December 31, 2017) and subsequent reactions from Twitter users. The content can be cross-referenced with Twitter's archive and news reports from credible outlets at the time. The article describes an event that occurred in the real world and is thus classified as real.\"\n",
            "}\n",
            "\n",
            "--- Sample 2 ---\n",
            "Granite output: {\n",
            "  \"label\": \"real\",\n",
            "  \"reason\": \"The news article is a report from Reuters, a well-established and credible international news agency. It discusses ongoing political events and statements made by U.S. politicians regarding budget negotiations, tax cuts, military spending, and immigration policy, all of which can be verified through other reputable news sources.\"\n",
            "}\n",
            "\n",
            "--- Sample 3 ---\n",
            "Granite output: {\n",
            "  \"label\": \"real\",\n",
            "  \"reason\": \"The news article is a summary of events that have been reported by credible news outlets such as the New York Times. George Papadopoulos's role in the Trump campaign and his interactions with Australian diplomats regarding Russian opposition research on Hillary Clinton have been widely covered. His guilty plea for lying to the FBI and cooperation with Special Counsel Robert Mueller's team are matters of public record.\"\n",
            "}\n",
            "\n",
            "--- Sample 4 ---\n",
            "Granite output: {\n",
            "  \"label\": \"real\",\n",
            "  \"reason\": \"This news article is real as it is based on a statement from the Pentagon and reports from Reuters, a credible news outlet. It details the U.S. military's decision to allow transgender individuals to enlist, starting January 1, 2018, following federal court rulings that blocked Trump's transgender ban. The information aligns with other news reports from reputable sources at the time, including reports from the American Civil Liberties Union and GLAD, organizations involved in the legal challenges. The article also references Trump's July 2017 announcement to reverse Obama's policy on transgender individuals serving in the military.\"\n",
            "}\n",
            "\n",
            "--- Sample 5 ---\n",
            "Granite output: {\n",
            "  \"label\": \"real\",\n",
            "  \"reason\": \"The news article describes a verifiable event, a search warrant executed by the FBI for emails related to former Milwaukee Sheriff David Clarke's interaction with a passenger, Dan Black, on a plane. The information is supported by a tweet from Clarke himself, acknowledging the search warrant and calling it 'fake news'. The article also references a Milwaukee Journal Sentinel report and subsequent reactions from Twitter users, indicating that this information is circulating in public discourse. Although Clarke's denial of the allegations adds a layer of controversy, the existence of the search warrant and its public availability are concrete facts that can be verified by credible news outlets.\"\n",
            "}\n",
            "\n",
            "--- Sample 6 ---\n",
            "Granite output: {\n",
            "  \"label\": \"real\",\n",
            "  \"reason\": \"The news article is a report from Reuters, a credible international news agency, quoting Senator Lindsey Graham's statement on CBS's Face the Nation regarding the ongoing Mueller investigation into Russia's interference in the 2016 US election and potential links to the Trump campaign. The article aligns with historical records and public statements made by the individuals mentioned, including Trump's own comments to the New York Times. The presence of multiple other investigations in Washington, as well as convictions and indictments related to the Trump campaign and administration, further supports the veracity of this report.\"\n",
            "}\n",
            "\n",
            "=== Ringkasan Hasil Granite ===\n",
            "  true_label                                     granite_output\n",
            "0       FAKE  {\\n  \"label\": \"real\",\\n  \"reason\": \"The news a...\n",
            "1       REAL  {\\n  \"label\": \"real\",\\n  \"reason\": \"The news a...\n",
            "2       FAKE  {\\n  \"label\": \"real\",\\n  \"reason\": \"The news a...\n",
            "3       REAL  {\\n  \"label\": \"real\",\\n  \"reason\": \"This news ...\n",
            "4       FAKE  {\\n  \"label\": \"real\",\\n  \"reason\": \"The news a...\n",
            "5       REAL  {\\n  \"label\": \"real\",\\n  \"reason\": \"The news a...\n"
          ]
        }
      ]
    },
    {
      "cell_type": "code",
      "source": [
        "import json\n",
        "\n",
        "#parsing hasil granite (dari json string ke kolom dataframe)\n",
        "df_results[\"predicted_label\"] = df_results[\"granite_output\"].apply(\n",
        "    lambda x: json.loads(x)[\"label\"] if isinstance(x, str) else None\n",
        ")\n",
        "\n",
        "df_results[\"reason\"] = df_results[\"granite_output\"].apply(\n",
        "    lambda x: json.loads(x)[\"reason\"] if isinstance(x, str) else None\n",
        ")\n",
        "\n",
        "#lihat hasil parsing\n",
        "print(\"\\n=== Hasil Setelah Parsing ===\")\n",
        "print(df_results[[\"true_label\", \"predicted_label\", \"reason\"]])\n",
        "\n",
        "#hitung akurasi sederhana granite dgn data kaggle\n",
        "accuracy = (df_results[\"true_label\"] == df_results[\"predicted_label\"]).mean()\n",
        "print(f\"\\nAccuracy Granite vs Dataset Kaggle: {accuracy:.2f}\")\n"
      ],
      "metadata": {
        "colab": {
          "base_uri": "https://localhost:8080/"
        },
        "id": "D_dmHrjhTS4q",
        "outputId": "141944e3-047e-4039-caf1-4a73db6e556b"
      },
      "execution_count": 10,
      "outputs": [
        {
          "output_type": "stream",
          "name": "stdout",
          "text": [
            "\n",
            "=== Hasil Setelah Parsing ===\n",
            "  true_label predicted_label  \\\n",
            "0       FAKE            real   \n",
            "1       REAL            real   \n",
            "2       FAKE            real   \n",
            "3       REAL            real   \n",
            "4       FAKE            real   \n",
            "5       REAL            real   \n",
            "\n",
            "                                              reason  \n",
            "0  The news article presents a verified tweet fro...  \n",
            "1  The news article is a report from Reuters, a w...  \n",
            "2  The news article is a summary of events that h...  \n",
            "3  This news article is real as it is based on a ...  \n",
            "4  The news article describes a verifiable event,...  \n",
            "5  The news article is a report from Reuters, a c...  \n",
            "\n",
            "Accuracy Granite vs Dataset Kaggle: 0.00\n"
          ]
        }
      ]
    },
    {
      "cell_type": "code",
      "source": [],
      "metadata": {
        "id": "1EdSuHz1TSrj"
      },
      "execution_count": null,
      "outputs": []
    }
  ]
}